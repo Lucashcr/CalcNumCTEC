{
    "cells": [
        {
            "cell_type": "markdown",
            "source": [
                "<h1 style=\"font-family: Times New Roman; font-style: italic; text-align: center\">Documentação:</h1>\r\n",
                "<h1 style=\"font-family: Times New Roman; text-align: center\"><b>CalcNumCTEC</b></h1>\r\n",
                "\r\n",
                "<hr/>\r\n",
                "\r\n",
                "<h3 style=\"font-family: Times New Roman; font-style: normal; text-align: center\">Lucas Henrique Correia da Rocha<br/><font color=\"grey\">lucash.rocha@hotmail.com</font></h3>\r\n",
                "\r\n",
                "<hr/>\r\n",
                "\r\n",
                "<p style=\"text-align: justify; text-indent: 1cm\">Olá! Seja bem-vindo à documentação da biblioteca CalcNumCTEC. Esta biblioteca foi implementada inicialmente como compilação dos métodos estudados na disciplina de Cálculo Numérico a partir da atividade de monitoria no Centro de Tecnologia (CTEC) da Universidade Federal de Alagoas (UFAL). Meu nome é Lucas, fui monitor da disciplina no semestre de 2020.2 e, como resultado dos trabalhos realizados durante o exercício da função de monitor, auxiliando os alunos com a implementação dos métodos em linguagem Julia, resolvi juntar todas elas numa biblioteca.</p>\r\n",
                "\r\n",
                "<p style=\"text-align: justify; text-indent: 1cm\">Entretanto, durante a realização do trabalho, foram surgindo novas ideias, que foram sendo desenvolvidas e agregadas ao trabalho inicial, de forma a expandir a aplicabilidade da biblioteca, implementando novas funções e até mesmo tipos de dados específicos, a fim de facilitar o trabalho acadêmico.</p>\r\n",
                "\r\n",
                "<p style=\"text-align: justify; text-indent: 1cm\">Portanto, espero que esta biblioteca seja útil para você. E não deixe de dar feedback, em especial de melhorias para que possamos evoluir suas funcionalidades. Faça bom proveito! 😀</p>\r\n",
                "\r\n",
                "## Introdução\r\n",
                "\r\n",
                "#### 1. INCLUSÃO DA BIBLIOTECA\r\n",
                "\r\n",
                "<p style=\"text-align: justify; text-indent: 1cm\">Com o objetivo de simplificar o desenvolvimento e a utilização da biblioteca, o código está escrito num script com nome da biblioteca e a primeira coisa a ser feita, antes mesmo de usá-la, é colocar uma cópia do arquivo em algum local de fácil acesso. Por conveniência, em especial se o programa que você está escrevendo será compartilhado com outros usuários, é recomendado que ele seja guardado na mesma pasta do arquivo que o está chamando ou numa subpasta dela.</p>\r\n",
                "\r\n",
                "<p style=\"text-align: justify; text-indent: 1cm\">Depois disso, é preciso incluir o <i>script</i> no código em que estamos escrevendo! Em Julia, isso é feito através da função <i>include</i>, passando o diretório do arquivo. Veja o exemplo abaixo:</p>"
            ],
            "metadata": {}
        },
        {
            "cell_type": "code",
            "execution_count": 417,
            "source": [
                "include(\"code/CalcNumCTEC.jl\")"
            ],
            "outputs": [
                {
                    "output_type": "execute_result",
                    "data": {
                        "text/plain": [
                            "\"CalcNumCTEC incluída com sucesso!\""
                        ]
                    },
                    "metadata": {},
                    "execution_count": 417
                }
            ],
            "metadata": {}
        },
        {
            "cell_type": "markdown",
            "source": [
                "<p style=\"text-align: justify; text-indent: 1cm\">Um jeito de garantir que a biblioteca foi incluída com êxito, conforme demonstrado no exemplo anterior, é executar o programa de modo que a chamada seja a última linha. Desta maneira, será exibida uma saída no terminal com a mensagem <b>\"CalcNumCTEC incluída com sucesso!\"</b>. Pode-se ainda testar executando alguma das funções implementadas.</p>\r\n",
                "\r\n",
                "#### 2. NOMENCLATURA DAS FUNÇÕES\r\n",
                "\r\n",
                "<p style=\"text-align: justify; text-indent: 1cm\">A funções implementadas estão estrategicamente nomeadas de maneira lógica, facilitando a utilização com nomes triviais e de fácil memorização. O padrão utilizado para nomenclatura das funções é da forma:</p>\r\n",
                "\r\n",
                "<h5 style=\"font-family: Times New Roman; text-align: center\"><b><i>ASSUNTO_MÉTODO</i></b></h5>\r\n",
                "\r\n",
                "<p style=\"text-align: justify; text-indent: 1cm\">O assunto está associado ao objeto principal da função, ou seja, ao resultado do que a função de fato implementa. São eles:</p>\r\n",
                "\r\n",
                "\r\n",
                "Assunto                           | _ASSUNTO_           \r\n",
                ":-------------------------------: | :---------------: \r\n",
                "Zeros de funções                  | [Zeros](#Zeros)\r\n",
                "Sistemas de equações lineares     | SEL \r\n",
                "Sistemas de equações não lineares | SENL \r\n",
                "Interpolação                      | Interpolacao \r\n",
                "Ajuste                            | Ajuste \r\n",
                "Integral                          | Integral \r\n",
                "Integral dupla                    | IntegralDupla \r\n",
                "Integral tripla                   | IntegralTripla \r\n",
                "\r\n",
                "<p style=\"text-align: justify; text-indent: 1cm\">O método, por sua vez, como o próprio nome sugere, indica o método numérico utilizado para a determinação do resultado requerido. Veremos então, para cada função o método implementado e como essa nomenclatura é efetivamente utilizada.</p>\r\n",
                "\r\n",
                "<h4 id=\"Zeros\"> 3. ZEROS DE FUNÇÕES </h4>\r\n",
                "\r\n",
                "<p style=\"text-align: justify; text-indent: 1cm\">A primeira classe de assuntos que veremos é a que determina raízes de funções quaisquer. Aqui, temos os três métodos clássicos para a determinação de zeros de funções:</p>\r\n",
                "\r\n",
                "* Método da Bisseção $\\rightarrow$ _MÉTODO_ = Bissecao\r\n",
                "\r\n",
                "<p style=\"text-align: justify; text-indent: 1cm\">Classificado como um método intervalar, o Método da Bisseção consiste em estreitar um intervalo inicial a partir do ponto médio do mesmo até que o erro, calculado como $|f(x_k)|$, onde $f$ é a função de análise, seja menor do que a tolerância.</p>\r\n",
                "\r\n",
                "<p style=\"text-align: justify; text-indent: 1cm\">Os parâmetros obrigatórios para sua utilização são: a função a ser analisada e os extremos $a$ e $b$ do intervalo. Para garantir a convergência do método, este só permitirá a execução da função se os valores de $f(a)$ e $f(b)$ possuírem valores simétricos, de maneira que, pelo Teorema do Valor Intermediário (TVI), verificamos a existência da raiz no intervalo dado. Vejamos um exemplo de utilização:</p>"
            ],
            "metadata": {}
        },
        {
            "cell_type": "code",
            "execution_count": 418,
            "source": [
                "f(x) = x^3 - cos(x)\r\n",
                "\r\n",
                "println(\"f(0) = $(f(0))\")\r\n",
                "println(\"f(1) = $(f(1))\")"
            ],
            "outputs": [
                {
                    "output_type": "stream",
                    "name": "stdout",
                    "text": [
                        "f(0) = -1.0\n",
                        "f(1) = 0.45969769413186023\n"
                    ]
                }
            ],
            "metadata": {}
        },
        {
            "cell_type": "markdown",
            "source": [
                "<p style=\"text-align: justify; text-indent: 1cm\">Daí, podemos concluir que $\\exist x \\in [0,1] \\mid f(x)=0$. Perceba ainda que, não é possível isolar $x$ na equação $x^3-cos(x)=0$ de modo a obter este valor analiticamente, fazendo-nos ter de recorrer a métodos numéricos. Logo, podemos usar a função $Zeros_Bissecao()$ para calcular este valor de x.</p>"
            ],
            "metadata": {}
        },
        {
            "cell_type": "code",
            "execution_count": 419,
            "source": [
                "xᵣ = Zeros_Bissecao(f, 0, 1)\r\n",
                "println(\"Raiz de f(x) = $xᵣ\")"
            ],
            "outputs": [
                {
                    "output_type": "stream",
                    "name": "stdout",
                    "text": [
                        "Raiz de f(x) = 0.865474033101691\n"
                    ]
                }
            ],
            "metadata": {}
        },
        {
            "cell_type": "markdown",
            "source": [
                "<p style=\"text-align: justify; text-indent: 1cm\">Além destes parâmetros obrigatórios, temos parâmetros adicionais referentes à convergência da função, são eles:</p>\r\n",
                "\r\n",
                "> _tol_: Define a tolerância permitida para o erro da aproximação (valor padrão: $10^{-12}$) </br> _klim_: Define a quantidade máxima de iterações para o caso do método não convergir (valor padrão: $10^6$)"
            ],
            "metadata": {}
        },
        {
            "cell_type": "code",
            "execution_count": 420,
            "source": [
                "xᵣ = Zeros_Bissecao(f, 0, 1, tol=0.01, klim=100)\r\n",
                "println(\"Raiz de f(x) = $xᵣ\")"
            ],
            "outputs": [
                {
                    "output_type": "stream",
                    "name": "stdout",
                    "text": [
                        "Raiz de f(x) = 0.8671875\n"
                    ]
                }
            ],
            "metadata": {}
        },
        {
            "cell_type": "markdown",
            "source": [
                "* Método das Cordas $\\rightarrow$ _MÉTODO_ = Cordas\r\n",
                "\r\n",
                "<p style=\"text-align: justify; text-indent: 1cm\">Outro método, similar ao anterior, que foi implementado é o Método das Cordas. A única diferença para o anterior consiste na função de recorrência, calculando o valor de x para a próxima iteração com os valores da iteração anterior. Deste modo, a chamada da função é idêntica e é com os mesmos atributos, alterando-se apenas o nome da função.</p>"
            ],
            "metadata": {}
        },
        {
            "cell_type": "code",
            "execution_count": 421,
            "source": [
                "xᵣ = Zeros_Cordas(f, 0, 1)\r\n",
                "xᵣ₂ = Zeros_Cordas(f, 0, 1, tol=0.01, klim=100)\r\n",
                "\r\n",
                "println(\"Raiz de f(x) = $xᵣ\")\r\n",
                "println(\"Raiz de f(x) (Baixa tolerância) = $xᵣ₂\")"
            ],
            "outputs": [
                {
                    "output_type": "stream",
                    "name": "stdout",
                    "text": [
                        "Raiz de f(x) = 0.865474033101691\n",
                        "Raiz de f(x) (Baixa tolerância) = 0.8671875\n"
                    ]
                }
            ],
            "metadata": {}
        },
        {
            "cell_type": "markdown",
            "source": [
                "* Método de Newton-Raphson $\\rightarrow$ _MÉTODO_ = NR\r\n",
                "\r\n",
                "<p style=\"text-align: justify; text-indent: 1cm\">Saindo agora do escopo dos métodos intervalares, o Método de Newton-Raphson difere dos anteriores pelo fato de que o chute inicial, ao invés de iniciar com um intervalo, é dado por um valor para x e o próximo valor é calculado a partir da interseção da reta tangente com o eixo x.</p>\r\n",
                "\r\n",
                "<p style=\"text-align: justify; text-indent: 1cm\">Para a implementação do método, a fim de evitar a determinação da derivada analiticamente, tomou-se a decisão de estimar este valor a partir de uma reta secante pelos pontos $(x_k, f(x_k))$ e $(x_k + tol, f(x_k + tol))$, onde <i>tol</i> é a tolerância da função.</p>\r\n",
                "\r\n",
                "<p style=\"text-align: justify; text-indent: 1cm\">De forma semelhante aos métodos anteriores, além de passar na chamada a função a ser analisada e a </p>"
            ],
            "metadata": {}
        },
        {
            "cell_type": "code",
            "execution_count": 424,
            "source": [
                "g(x) = x^4 - sin(x)\r\n",
                "Derivada_Secante(g, 1, 2, tol=10^-3)"
            ],
            "outputs": [
                {
                    "output_type": "execute_result",
                    "data": {
                        "text/plain": [
                            "864948.8985538478"
                        ]
                    },
                    "metadata": {},
                    "execution_count": 424
                }
            ],
            "metadata": {}
        }
    ],
    "metadata": {
        "orig_nbformat": 4,
        "language_info": {
            "file_extension": ".jl",
            "name": "julia",
            "mimetype": "application/julia",
            "version": "1.6.2"
        },
        "kernelspec": {
            "name": "julia-1.6",
            "display_name": "Julia 1.6.2",
            "language": "julia"
        }
    },
    "nbformat": 4,
    "nbformat_minor": 2
}