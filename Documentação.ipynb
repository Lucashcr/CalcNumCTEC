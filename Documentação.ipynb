{
    "cells": [
        {
            "cell_type": "markdown",
            "source": [
                "<h1 style=\"font-family: Times New Roman; font-style: italic; text-align: center\">Documentação:</h1>\r\n",
                "<h1 style=\"font-family: Times New Roman; text-align: center\"><b>CalcNumCTEC</b></h1>\r\n",
                "\r\n",
                "<hr/>\r\n",
                "\r\n",
                "<h3 style=\"font-family: Times New Roman; font-style: normal; text-align: center\">Lucas Henrique Correia da Rocha<br/><font color=\"grey\">lucash.rocha@hotmail.com</font></h3>\r\n",
                "\r\n",
                "<hr/>\r\n",
                "\r\n",
                "<p style=\"text-align: justify; text-indent: 1cm\">Olá! Seja bem-vindo à documentação da biblioteca CalcNumCTEC. Esta biblioteca foi implementada inicialmente como compilação dos métodos estudados na disciplina de Cálculo Numérico a partir da atividade de monitoria no Centro de Tecnologia (CTEC) da Universidade Federal de Alagoas (UFAL). Meu nome é Lucas, fui monitor da disciplina no semestre de 2020.2 e, como resultado dos trabalhos realizados durante o exercício da função de monitor, auxiliando os alunos com a implementação dos métodos em linguagem Julia, resolvi juntar todas elas numa biblioteca.</p>\r\n",
                "\r\n",
                "<p style=\"text-align: justify; text-indent: 1cm\">Entretanto, durante a realização do trabalho, foram surgindo novas ideias, que foram sendo desenvolvidas e agregadas ao trabalho inicial, de forma a expandir a aplicabilidade da biblioteca, implementando novas funções e até mesmo tipos de dados específicos, a fim de facilitar o trabalho acadêmico.</p>\r\n",
                "\r\n",
                "<p style=\"text-align: justify; text-indent: 1cm\">Portanto, espero que esta biblioteca seja útil para você. E não deixe de dar feedback, em especial de melhorias para que possamos evoluir suas funcionalidades. Faça bom proveito! 😀</p>\r\n",
                "\r\n",
                "## Introdução\r\n",
                "\r\n",
                "#### 1. INCLUSÃO DA BIBLIOTECA\r\n",
                "\r\n",
                "<p style=\"text-align: justify; text-indent: 1cm\">Com o objetivo de simplificar o desenvolvimento e a utilização da biblioteca, o código está escrito num script com nome da biblioteca e a primeira coisa a ser feita, antes mesmo de usá-la, é colocar uma cópia do arquivo em algum local de fácil acesso. Por conveniência, em especial se o programa que você está escrevendo será compartilhado com outros usuários, é recomendado que ele seja guardado na mesma pasta do arquivo que o está chamando ou numa subpasta dela.</p>\r\n",
                "\r\n",
                "<p style=\"text-align: justify; text-indent: 1cm\">Depois disso, é preciso incluir o <i>script</i> no código em que estamos escrevendo! Em Julia, isso é feito através da função <i>include</i>, passando o diretório do arquivo. Veja o exemplo abaixo:</p>"
            ],
            "metadata": {}
        },
        {
            "cell_type": "code",
            "execution_count": 14,
            "source": [
                "include(\"code/CalcNumCTEC.jl\")"
            ],
            "outputs": [
                {
                    "output_type": "execute_result",
                    "data": {
                        "text/plain": [
                            "\"CalcNumCTEC incluída com sucesso!\""
                        ]
                    },
                    "metadata": {},
                    "execution_count": 14
                }
            ],
            "metadata": {}
        },
        {
            "cell_type": "markdown",
            "source": [
                "<p style=\"text-align: justify; text-indent: 1cm\">Um jeito de garantir que a biblioteca foi incluída com êxito, conforme demonstrado no exemplo anterior, é executar o programa de modo que a chamada seja a última linha. Desta maneira, será exibida uma saída no terminal com a mensagem <b>\"CalcNumCTEC incluída com sucesso!\"</b>. Pode-se ainda testar executando alguma das funções implementadas.</p>\r\n",
                "\r\n",
                "#### 2. NOMENCLATURA DAS FUNÇÕES\r\n",
                "\r\n",
                "<p style=\"text-align: justify; text-indent: 1cm\">A funções implementadas estão estrategicamente nomeadas de maneira lógica, facilitando a utilização com nomes triviais e de fácil memorização. O padrão utilizado para nomenclatura das funções é da forma:</p>\r\n",
                "\r\n",
                "<h5 style=\"font-family: Times New Roman; text-align: center\"><b><i>ASSUNTO_MÉTODO</i></b></h5>\r\n",
                "\r\n",
                "<p style=\"text-align: justify; text-indent: 1cm\">O assunto está associado ao objeto principal da função, ou seja, ao resultado do que a função de fato implementa. São eles:</p>\r\n",
                "\r\n",
                "\r\n",
                "Assunto                           | _ASSUNTO_           \r\n",
                ":-------------------------------: | :---------------: \r\n",
                "Zeros de funções                  | [Zeros](#Zeros)\r\n",
                "Sistemas de equações lineares     | SEL \r\n",
                "Sistemas de equações não lineares | SENL \r\n",
                "Interpolação                      | Interpolacao \r\n",
                "Ajuste                            | Ajuste \r\n",
                "Integral                          | Integral \r\n",
                "Integral dupla                    | IntegralDupla \r\n",
                "Integral tripla                   | IntegralTripla \r\n",
                "\r\n",
                "<p style=\"text-align: justify; text-indent: 1cm\">O método, por sua vez, como o próprio nome sugere, indica o método numérico utilizado para a determinação do resultado requerido. Veremos então, para cada função o método implementado e como essa nomenclatura é efetivamente utilizada.</p>\r\n",
                "\r\n",
                "#### 3. ZEROS DE FUNÇÕES\r\n",
                "\r\n",
                "<p id=\"Zeros\" style=\"text-align: justify; text-indent: 1cm\">A primeira classe de assuntos que veremos é a que determina raízes de funções quaisquer. Aqui, temos os três métodos clássicos para a determinação de zeros de funções:</p>\r\n",
                "\r\n",
                "* Método da Bisseção $\\rightarrow$ _MÉTODO_ = Bissecao\r\n",
                "\r\n",
                "<p style=\"text-align: justify; text-indent: 1cm\">Classificado como um método intervalar, o Método da Bisseção consiste em estreitar um intervalo inicial a partir do ponto médio do mesmo até que o erro, calculado como $|f(x_k)|$, onde $f$ é a função de análise, seja menor do que a tolerância.</p>\r\n",
                "\r\n",
                "<p style=\"text-align: justify; text-indent: 1cm\">Os parâmetros obrigatórios para sua utilização são: a função a ser analisada e os extremos $a$ e $b$ do intervalo. Para garantir a convergência do método, este só permitirá a execução da função se os valores de $f(a)$ e $f(b)$ possuírem valores simétricos, de maneira que, pelo Teorema do Valor Intermediário (TVI), verificamos a existência da raiz no intervalo dado. Vejamos um exemplo de utilização:</p>"
            ],
            "metadata": {}
        },
        {
            "cell_type": "code",
            "execution_count": null,
            "source": [],
            "outputs": [],
            "metadata": {}
        }
    ],
    "metadata": {
        "orig_nbformat": 4,
        "language_info": {
            "file_extension": ".jl",
            "name": "julia",
            "mimetype": "application/julia",
            "version": "1.6.1"
        },
        "kernelspec": {
            "name": "julia-1.6",
            "display_name": "Julia 1.6.1",
            "language": "julia"
        }
    },
    "nbformat": 4,
    "nbformat_minor": 2
}