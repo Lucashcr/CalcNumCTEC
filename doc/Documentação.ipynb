{
 "cells": [
  {
   "cell_type": "markdown",
   "source": [
    "<center><img src=\"img_init.png\" width=\"500\"></center>\r\n",
    "\r\n",
    "<h1 align=\"center\">Documentação:</h1>\r\n",
    "<h1 align=\"center\">CalcNumCTEC</h1>\r\n",
    "\r\n",
    "<hr/>\r\n",
    "\r\n",
    "<h3 align=\"center\">Lucas Henrique Correia da Rocha</h3>\r\n",
    "<h3 align=\"center\">lucash.rocha@hotmail.com</h3>\r\n",
    "\r\n",
    "<hr/>\r\n",
    "\r\n",
    "Olá! Seja bem-vindo à documentação da biblioteca CalcNumCTEC. Esta biblioteca foi implementada inicialmente como compilação dos métodos estudados na disciplina de Cálculo Numérico a partir da atividade de monitoria no Centro de Tecnologia (CTEC) da Universidade Federal de Alagoas (UFAL). Meu nome é Lucas, fui monitor da disciplina no semestre de 2020.2 e, como resultado dos trabalhos realizados durante o exercício da função de monitor, auxiliando os alunos com a implementação dos métodos em linguagem Julia, resolvi juntar todas elas numa biblioteca.\r\n",
    "\r\n",
    "Entretanto, durante a realização do trabalho, foram surgindo novas ideias, que foram sendo desenvolvidas e agregadas ao trabalho inicial, de forma a expandir a aplicabilidade da biblioteca, implementando novas funções e até mesmo tipos de dados específicos, a fim de facilitar o trabalho acadêmico.\r\n",
    "\r\n",
    "Portanto, espero que esta biblioteca seja útil para você. E não deixe de dar feedback, em especial de melhorias para que possamos evoluir suas funcionalidades. Faça bom proveito! 😀\r\n",
    "\r\n",
    "## Introdução\r\n",
    "\r\n",
    "#### 1. INCLUSÃO DA BIBLIOTECA\r\n",
    "\r\n",
    "Com o objetivo de simplificar o desenvolvimento e a utilização da biblioteca, o código está escrito num script com nome da biblioteca e a primeira coisa a ser feita, antes mesmo de usá-la, é colocar uma cópia do arquivo em algum local de fácil acesso. Por conveniência, em especial se o programa que você está escrevendo será compartilhado com outros usuários, é recomendado que ele seja guardado na mesma pasta do arquivo que o está chamando ou numa subpasta dela.\r\n",
    "\r\n",
    "Depois disso, é preciso incluir o _script_ no código em que estamos escrevendo! Em Julia, isso é feito através da função _include_, passando o diretório do arquivo. Veja o exemplo abaixo:"
   ],
   "metadata": {}
  },
  {
   "cell_type": "code",
   "execution_count": 1,
   "source": [
    "include(\"C:\\\\Users\\\\lucas\\\\Documents\\\\GitHub\\\\CalcNumCTEC\\\\CalcNumCTEC\\\\code\\\\CalcNumCTEC.jl\")"
   ],
   "outputs": [
    {
     "output_type": "execute_result",
     "data": {
      "text/plain": [
       "\"CalcNumCTEC incluída com sucesso!\""
      ]
     },
     "metadata": {},
     "execution_count": 1
    }
   ],
   "metadata": {}
  },
  {
   "cell_type": "markdown",
   "source": [
    "Um jeito de garantir que a biblioteca foi incluída com êxito, conforme demonstrado no exemplo anterior, é executar o programa de modo que a chamada seja a última linha. Desta maneira, será exibida uma saída no terminal com a mensagem **\"CalcNumCTEC incluída com sucesso!\"**. Pode-se ainda testar executando alguma das funções implementadas.\n",
    "\n",
    "#### 2. NOMENCLATURA DAS FUNÇÕES\n",
    "\n",
    "A funções implementadas estão estrategicamente nomeadas de maneira lógica, facilitando a utilização com nomes triviais e de fácil memorização. O padrão utilizado para nomenclatura das funções é da forma:\n",
    "\n",
    "<h5><center><b><i>ASSUNTO_MÉTODO</i></b></center></h5>\n",
    "\n",
    "O assunto está associado ao objeto principal da função, ou seja, ao resultado do que a função de fato implementa. São eles:\n",
    "\n",
    "Assunto                           | _ASSUNTO_           \n",
    ":-------------------------------: | :---------------: \n",
    "Zeros de funções                  | [Zeros](#Zeros)\n",
    "Sistemas de equações lineares     | SEL \n",
    "Sistemas de equações não lineares | SENL \n",
    "Interpolação                      | Interpolacao \n",
    "Ajuste                            | Ajuste \n",
    "Integral                          | Integral \n",
    "Integral dupla                    | IntegralDupla \n",
    "Integral tripla                   | IntegralTripla \n",
    "\n",
    "O método, por sua vez, como o próprio nome sugere, indica o método numérico utilizado para a determinação do resultado requerido. Veremos então, para cada função o método implementado e como essa nomenclatura é efetivamente utilizada.\n",
    "\n",
    "<h4 id=\"Zeros\"> 3. ZEROS DE FUNÇÕES </h4>\n",
    "\n",
    "A primeira classe de assuntos que veremos é a que determina raízes de funções quaisquer. Aqui, temos os três métodos clássicos para a determinação de zeros de funções:\n",
    "\n",
    "* Método da Bisseção → _MÉTODO_ = Bissecao\n",
    "\n",
    "Classificado como um método intervalar, o Método da Bisseção consiste em estreitar um intervalo inicial a partir do ponto médio do mesmo até que o erro, calculado como $|f(x_k)|$, onde $f$ é a função de análise, seja menor do que a tolerância.\n",
    "\n",
    "Os parâmetros obrigatórios para sua utilização são: a função a ser analisada e os extremos $a$ e $b$ do intervalo. Para garantir a convergência do método, este só permitirá a execução da função se os valores de $f(a)$ e $f(b)$ possuírem valores simétricos, de maneira que, pelo Teorema do Valor Intermediário (TVI), verificamos a existência da raiz no intervalo dado. Vejamos um exemplo de utilização:"
   ],
   "metadata": {}
  },
  {
   "cell_type": "code",
   "execution_count": 80,
   "source": [
    "f(x) = x^3 - cos(x)\n",
    "\n",
    "println(\"f(0) = $(f(0))\")\n",
    "println(\"f(1) = $(f(1))\")"
   ],
   "outputs": [
    {
     "output_type": "stream",
     "name": "stdout",
     "text": [
      "f(0) = -1.0\n",
      "f(1) = 0.45969769413186023\n"
     ]
    }
   ],
   "metadata": {}
  },
  {
   "cell_type": "markdown",
   "source": [
    "Daí, podemos concluir que $\\exist x \\in [0,1] \\mid f(x)=0$. Perceba ainda que, não é possível isolar $x$ na equação $x^3-cos(x)=0$ de modo a obter este valor analiticamente, fazendo-nos ter de recorrer a métodos numéricos. Logo, podemos usar a função **Zeros_Bissecao()** para calcular este valor de x."
   ],
   "metadata": {}
  },
  {
   "cell_type": "code",
   "execution_count": 81,
   "source": [
    "xᵣ = Zeros_Bissecao(f, 0, 1)\n",
    "println(\"Raiz de f(x) = $xᵣ\")"
   ],
   "outputs": [
    {
     "output_type": "stream",
     "name": "stdout",
     "text": [
      "Raiz de f(x) = 0.865474033101691\n"
     ]
    }
   ],
   "metadata": {}
  },
  {
   "cell_type": "markdown",
   "source": [
    "<p style=\"text-align: justify; text-indent: 1cm\">Além destes parâmetros obrigatórios, temos parâmetros adicionais referentes à convergência da função, são eles:</p>\n",
    "\n",
    "> _tol_: Define a tolerância permitida para o erro da aproximação (valor padrão: $10^{-12}$) </br> _klim_: Define a quantidade máxima de iterações para o caso do método não convergir (valor padrão: $10^6$)"
   ],
   "metadata": {}
  },
  {
   "cell_type": "code",
   "execution_count": 82,
   "source": [
    "xᵣ = Zeros_Bissecao(f, 0, 1, tol=0.01, klim=100)\n",
    "println(\"Raiz de f(x) = $xᵣ\")"
   ],
   "outputs": [
    {
     "output_type": "stream",
     "name": "stdout",
     "text": [
      "Raiz de f(x) = 0.8671875\n"
     ]
    }
   ],
   "metadata": {}
  },
  {
   "cell_type": "markdown",
   "source": [
    "* Método das Cordas $\\rightarrow$ _MÉTODO_ = Cordas\n",
    "\n",
    "<p style=\"text-align: justify; text-indent: 1cm\">Outro método, similar ao anterior, que foi implementado é o Método das Cordas. A única diferença para o anterior consiste na função de recorrência, calculando o valor de x para a próxima iteração com os valores da iteração anterior. Deste modo, a chamada da função é idêntica e é com os mesmos atributos, alterando-se apenas o nome da função.</p>"
   ],
   "metadata": {}
  },
  {
   "cell_type": "code",
   "execution_count": 83,
   "source": [
    "xᵣ = Zeros_Cordas(f, 0, 1)\n",
    "xᵣ₂ = Zeros_Cordas(f, 0, 1, tol=0.01, klim=100)\n",
    "\n",
    "println(\"Raiz de f(x) = $xᵣ\")\n",
    "println(\"Raiz de f(x) (Baixa tolerância) = $xᵣ₂\")"
   ],
   "outputs": [
    {
     "output_type": "stream",
     "name": "stdout",
     "text": [
      "Raiz de f(x) = 0.865474033101691\n",
      "Raiz de f(x) (Baixa tolerância) = 0.8671875\n"
     ]
    }
   ],
   "metadata": {}
  },
  {
   "cell_type": "markdown",
   "source": [
    "* Método de Newton-Raphson $\\rightarrow$ _MÉTODO_ = NR\n",
    "\n",
    "<p style=\"text-align: justify; text-indent: 1cm\">Saindo agora do escopo dos métodos intervalares, o Método de Newton-Raphson difere dos anteriores pelo fato de que o chute inicial, ao invés de iniciar com um intervalo, é dado por um valor para x e o próximo valor é calculado a partir da interseção da reta tangente com o eixo x.</p>\n",
    "\n",
    "<p style=\"text-align: justify; text-indent: 1cm\">Para a implementação do método, a fim de evitar a determinação da derivada analiticamente, tomou-se a decisão de estimar este valor a partir de uma reta secante pelos pontos $(x_k, f(x_k))$ e $(x_k + tol, f(x_k + tol))$, onde <i>tol</i> é a tolerância da função.</p>\n",
    "\n",
    "<p style=\"text-align: justify; text-indent: 1cm\">De forma semelhante aos métodos anteriores, além de passar na chamada a função a ser analisada e a </p>"
   ],
   "metadata": {}
  },
  {
   "cell_type": "code",
   "execution_count": 84,
   "source": [
    "# g(x) = x^4 - sin(x)\n",
    "g(x) = x^x\n",
    "println(\"MDF com 3 pontos: \", Derivada_MDFCentrada3pt(g, 0.5, 3))\n",
    "println(\"MDF com 5 pontos: \", Derivada_MDFCentrada5pt(g, 0.5, 3))"
   ],
   "outputs": [
    {
     "output_type": "stream",
     "name": "stdout",
     "text": [
      "MDF com 3 pontos: -1.5061424329942945\n",
      "MDF com 5 pontos: 1.5061816226726488\n"
     ]
    }
   ],
   "metadata": {}
  },
  {
   "cell_type": "code",
   "execution_count": null,
   "source": [],
   "outputs": [],
   "metadata": {}
  }
 ],
 "metadata": {
  "kernelspec": {
   "display_name": "Julia 1.6.2",
   "language": "julia",
   "name": "julia-1.6"
  },
  "language_info": {
   "file_extension": ".jl",
   "mimetype": "application/julia",
   "name": "julia",
   "version": "1.6.2"
  }
 },
 "nbformat": 4,
 "nbformat_minor": 2
}