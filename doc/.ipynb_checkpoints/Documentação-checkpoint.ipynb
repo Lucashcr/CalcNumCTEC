{
 "cells": [
  {
   "cell_type": "markdown",
   "metadata": {},
   "source": [
    "<center><img src=\"img_init.png\" width=\"500\"></center>\n",
    "\n",
    "<hr/>\n",
    "\n",
    "<h3 align=\"center\">Lucas Henrique Correia da Rocha</h3>\n",
    "<h3 align=\"center\">lucash.rocha@hotmail.com</h3>\n",
    "\n",
    "<hr/>\n",
    "\n",
    "Olá! Seja bem-vindo à documentação da biblioteca CalcNumCTEC. Esta biblioteca foi implementada inicialmente como compilação dos métodos estudados na disciplina de Cálculo Numérico a partir da atividade de monitoria no Centro de Tecnologia (CTEC) da Universidade Federal de Alagoas (UFAL). Meu nome é Lucas, fui monitor da disciplina no semestre de 2020.2 e, como resultado dos trabalhos realizados durante o exercício da função de monitor, auxiliando os alunos com a implementação dos métodos em linguagem Julia, resolvi juntar todas elas numa biblioteca.\n",
    "\n",
    "Entretanto, durante a realização do trabalho, foram surgindo novas ideias, que foram sendo desenvolvidas e agregadas ao trabalho inicial, de forma a expandir a aplicabilidade da biblioteca, implementando novas funções e até mesmo tipos de dados específicos, a fim de facilitar o trabalho acadêmico.\n",
    "\n",
    "Portanto, espero que esta biblioteca seja útil para você. E não deixe de dar feedback, em especial de melhorias para que possamos evoluir suas funcionalidades. Faça bom proveito! 😀\n",
    "\n",
    "## Introdução\n",
    "\n",
    "#### 1. INCLUSÃO DA BIBLIOTECA\n",
    "\n",
    "Com o objetivo de simplificar o desenvolvimento e a utilização da biblioteca, o código está escrito num script com nome da biblioteca e a primeira coisa a ser feita, antes mesmo de usá-la, é colocar uma cópia do arquivo em algum local de fácil acesso. Por conveniência, em especial se o programa que você está escrevendo será compartilhado com outros usuários, é recomendado que ele seja guardado na mesma pasta do arquivo que o está chamando ou numa subpasta dela.\n",
    "\n",
    "Depois disso, é preciso incluir o _script_ no código em que estamos escrevendo! Em Julia, isso é feito através da função _include_, passando o diretório do arquivo. Veja o exemplo abaixo:"
   ]
  },
  {
   "cell_type": "code",
   "execution_count": 179,
   "metadata": {},
   "outputs": [
    {
     "data": {
      "text/plain": [
       "\"CalcNumCTEC incluída com sucesso!\""
      ]
     },
     "execution_count": 179,
     "metadata": {},
     "output_type": "execute_result"
    }
   ],
   "source": [
    "include(\"C:\\\\Users\\\\lucas\\\\Documents\\\\GitHub\\\\CalcNumCTEC\\\\CalcNumCTEC\\\\code\\\\CalcNumCTEC.jl\")"
   ]
  },
  {
   "cell_type": "markdown",
   "metadata": {},
   "source": [
    "Um jeito de garantir que a biblioteca foi incluída com êxito, conforme demonstrado no exemplo anterior, é executar o programa de modo que a chamada seja a última linha. Desta maneira, será exibida uma saída no terminal com a mensagem **\"CalcNumCTEC incluída com sucesso!\"**. Pode-se ainda testar executando alguma das funções implementadas.\n",
    "\n",
    "#### 2. NOMENCLATURA DAS FUNÇÕES\n",
    "\n",
    "A funções implementadas estão estrategicamente nomeadas de maneira lógica, facilitando a utilização com nomes triviais e de fácil memorização. O padrão utilizado para nomenclatura das funções é da forma:\n",
    "\n",
    "<h5><center><b><i>ASSUNTO_MÉTODO</i></b></center></h5>\n",
    "\n",
    "O assunto está associado ao objeto principal da função, ou seja, ao resultado do que a função de fato implementa. São eles:\n",
    "\n",
    "Assunto                           | _ASSUNTO_           \n",
    ":-------------------------------: | :---------------: \n",
    "Zeros de funções                  | [Zeros](#Zeros)\n",
    "Sistemas de equações lineares     | [SEL](#SEL)\n",
    "Sistemas de equações não lineares | SENL \n",
    "Interpolação                      | Interpolacao \n",
    "Ajuste                            | Ajuste \n",
    "Integral                          | Integral \n",
    "Integral dupla                    | IntegralDupla \n",
    "Integral tripla                   | IntegralTripla \n",
    "Derivadas                         | MDFCentradas\n",
    "\n",
    "O método, por sua vez, como o próprio nome sugere, indica o método numérico utilizado para a determinação do resultado requerido. Veremos então, para cada função o método implementado e como essa nomenclatura é efetivamente utilizada.\n",
    "\n",
    "<h4 id=\"Zeros\"> 3. ZEROS DE FUNÇÕES </h4>\n",
    "\n",
    "A primeira classe de assuntos que veremos é a que determina raízes de funções quaisquer. Aqui, temos os três métodos clássicos para a determinação de zeros de funções:\n",
    "\n",
    "* Método da Bisseção → _MÉTODO_ = Bissecao\n",
    "\n",
    "Classificado como um método intervalar, o Método da Bisseção consiste em estreitar um intervalo inicial a partir do ponto médio do mesmo até que o erro, calculado como $|f(x_k)|$, onde $f$ é a função de análise, seja menor do que a tolerância.\n",
    "\n",
    "Os parâmetros obrigatórios para sua utilização são: a função a ser analisada e os extremos $a$ e $b$ do intervalo. Para garantir a convergência do método, este só permitirá a execução da função se os valores de $f(a)$ e $f(b)$ possuírem valores simétricos, de maneira que, pelo Teorema do Valor Intermediário (TVI), verificamos a existência da raiz no intervalo dado. Vejamos um exemplo de utilização:"
   ]
  },
  {
   "cell_type": "code",
   "execution_count": 180,
   "metadata": {},
   "outputs": [
    {
     "name": "stdout",
     "output_type": "stream",
     "text": [
      "f(0) = -1.0\n",
      "f(1) = 0.45969769413186023\n"
     ]
    }
   ],
   "source": [
    "f(x) = x^3 - cos(x)\n",
    "\n",
    "println(\"f(0) = $(f(0))\")\n",
    "println(\"f(1) = $(f(1))\")"
   ]
  },
  {
   "cell_type": "markdown",
   "metadata": {},
   "source": [
    "Daí, podemos concluir que $∃x \\in [0,1] \\mid f(x)=0$. Perceba ainda que, não é possível isolar $x$ na equação $x^3-cos(x)=0$ de modo a obter este valor analiticamente, fazendo-nos ter de recorrer a métodos numéricos. Logo, podemos usar a função <code>Zeros_Bissecao()</code> para calcular este valor de x."
   ]
  },
  {
   "cell_type": "code",
   "execution_count": 181,
   "metadata": {},
   "outputs": [
    {
     "name": "stdout",
     "output_type": "stream",
     "text": [
      "Raiz de f(x) = 0.865474033101691\n"
     ]
    }
   ],
   "source": [
    "xᵣ = Zeros_Bissecao(f, 0, 1)\n",
    "println(\"Raiz de f(x) = $xᵣ\")"
   ]
  },
  {
   "cell_type": "markdown",
   "metadata": {},
   "source": [
    "<p style=\"text-align: justify; text-indent: 1cm\">Além destes parâmetros obrigatórios, temos parâmetros adicionais referentes à convergência da função, são eles:</p>\n",
    "\n",
    "> <code>tol</code>: Define a tolerância permitida para o erro da aproximação (valor padrão: $10^{-12}$) </br> <code>klim</code>: Define a quantidade máxima de iterações para o caso do método não convergir (valor padrão: $10^6$)"
   ]
  },
  {
   "cell_type": "code",
   "execution_count": 182,
   "metadata": {},
   "outputs": [
    {
     "name": "stdout",
     "output_type": "stream",
     "text": [
      "Raiz de f(x) = 0.8671875\n"
     ]
    }
   ],
   "source": [
    "xᵣ = Zeros_Bissecao(f, 0, 1, tol=0.01, klim=100)\n",
    "println(\"Raiz de f(x) = $xᵣ\")"
   ]
  },
  {
   "cell_type": "markdown",
   "metadata": {},
   "source": [
    "* Método das Cordas $\\rightarrow$ _MÉTODO_ = Cordas\n",
    "\n",
    "<p style=\"text-align: justify; text-indent: 1cm\">Outro método, similar ao anterior, que foi implementado é o Método das Cordas. A única diferença para o anterior consiste na função de recorrência, calculando o valor de x para a próxima iteração com os valores da iteração anterior. Deste modo, a chamada da função é idêntica e é com os mesmos atributos, alterando-se apenas o nome da função.</p>"
   ]
  },
  {
   "cell_type": "code",
   "execution_count": 183,
   "metadata": {},
   "outputs": [
    {
     "name": "stdout",
     "output_type": "stream",
     "text": [
      "Raiz de f(x) (Método das Cordas - tolerância padrão) = 0.865474033101691\n",
      "Raiz de f(x) (Método das Cordas - baixa tolerância). = 0.8671875\n"
     ]
    }
   ],
   "source": [
    "xᵣ = Zeros_Cordas(f, 0, 1)\n",
    "xᵣ₂ = Zeros_Cordas(f, 0, 1, tol=0.01, klim=100)\n",
    "\n",
    "println(\"Raiz de f(x) (Método das Cordas - tolerância padrão) = $xᵣ\")\n",
    "println(\"Raiz de f(x) (Método das Cordas - baixa tolerância). = $xᵣ₂\")"
   ]
  },
  {
   "cell_type": "markdown",
   "metadata": {},
   "source": [
    "* Método de Newton-Raphson $\\rightarrow$ _MÉTODO_ = NR\n",
    "\n",
    "Saindo agora do escopo dos métodos intervalares, o Método de Newton-Raphson difere dos anteriores pelo fato de que o chute inicial, ao invés de iniciar com um intervalo, é dado por um valor para x e o próximo valor é calculado a partir da interseção da reta tangente com o eixo x.\n",
    "\n",
    "Para a implementação do método, a fim de evitar a determinação da derivada analiticamente, tomou-se a decisão de estimar este valor a partir de uma reta secante pelos pontos $(x_k, f(x_k))$ e $(x_k + tol, f(x_k + tol))$, onde _tol_ é a tolerância da função.\n",
    "\n",
    "De forma semelhante aos métodos anteriores, além de passar na chamada a função a ser analisada e o chute inicial, desta vez caracterizado por um único valor de x, é possível também determinar a tolerância e a quantidade limite de iterações do método.\n",
    "\n",
    "A função utilizada para o cálculo da derivada, porém, será descrita mais adiante."
   ]
  },
  {
   "cell_type": "code",
   "execution_count": 184,
   "metadata": {
    "scrolled": true
   },
   "outputs": [
    {
     "name": "stdout",
     "output_type": "stream",
     "text": [
      "Raiz de f(x) (Método NR - tolerância padrão) = 0.8654740331016162\n",
      "Raiz de f(x) (Método NR - baixa tolerância). = 0.8803328995715387\n"
     ]
    }
   ],
   "source": [
    "xᵣ = Zeros_NR(f, 1)\n",
    "xᵣ₂ = Zeros_NR(f, 1, tol=0.1, klim=10)\n",
    "\n",
    "println(\"Raiz de f(x) (Método NR - tolerância padrão) = $xᵣ\")\n",
    "println(\"Raiz de f(x) (Método NR - baixa tolerância). = $xᵣ₂\")"
   ]
  },
  {
   "cell_type": "markdown",
   "metadata": {},
   "source": [
    "<h4 id=\"SEL\"> 4. SISTEMAS DE EQUAÇÕES LINEARES </h4>\n",
    "\n",
    "O próximo conjunto de funções está relacionado à resolução de sistemas lineares abrangendo métodos diretos, iterativos e até mesmo a verificação dos critérios de convergência.\n",
    "\n",
    "* Eliminação de Gauss $\\rightarrow$ _MÉTODO_ = EliminGauss\n",
    "\n",
    "O primeiro método para solução de sistemas de equações lineares trata-se de um método direto, denominado Método da Eliminação de Gauss, que consiste em realizar operações lineares nas linhas da matriz e do vetor que definem o sistema a fim de escalonar a matriz, ou seja, fazer com que ela tome a forma de uma matriz triangular superior, com os elementos abaixo da diagonal principal nulos.\n",
    "\n",
    "$$\n",
    "\\left[ \\begin{matrix}\n",
    "a_{11} & a_{12} & a_{13} & ... & a_{1n} \\\\\n",
    "0 & a_{22} & a_{23} & ... & a_{2n} \\\\\n",
    "0 & 0 & a_{33} & ... & a_{3n} \\\\\n",
    " ...  &  ...  &  ...  & ... &  ... \\\\\n",
    "0 & 0 & 0 & ... & a_{nn}\n",
    "\\end{matrix} \\right]\n",
    "$$\n",
    "\n",
    "Com a matrix devidamente escalonada, o resultado pode ser calculado da última linha para a primeira utilizando-se os valores obtidos no passo anterior.\n",
    "\n",
    "A função pode então ser chamada conforme o código abaixo. Veja ainda que podemos ainda validar o exemplo com o valor obtido através do operador nativo de Julia para o cálculo de sistemas de equações lineares com $\\approx$ <code>(\\approx)</code>:"
   ]
  },
  {
   "cell_type": "code",
   "execution_count": 185,
   "metadata": {},
   "outputs": [
    {
     "name": "stdout",
     "output_type": "stream",
     "text": [
      "Vetor x:\n",
      "-2.4905651887225564\n",
      "-3.5544394580486802\n",
      "1.8556359283811825\n",
      "6.5327444779258155\n",
      "-6.2951376522373135\n",
      "\n",
      "true\n"
     ]
    }
   ],
   "source": [
    "A = randn(5,5)\n",
    "b = randn(5)\n",
    "\n",
    "x = SEL_EliminGauss(A, b)\n",
    "\n",
    "println(\"Vetor solução:\")\n",
    "\n",
    "using DelimitedFiles\n",
    "writedlm(stdout, x)\n",
    "\n",
    "println(\"\\n\", x ≈ A\\b)"
   ]
  },
  {
   "cell_type": "markdown",
   "metadata": {},
   "source": [
    "* CRITÉRIOS DE CONVERGÊNCIA $\\rightarrow$ _MÉTODO_ = CritConverg\n",
    "\n",
    "Usados para determinar o grau de convergência do sistema para os métodos iterativos a partir das características da matriz de coeficientes dos sistemas. Na verdade, o que estes critéios medem realmente é o grau de dominância dos termos  Os métodos implementados são três:\n",
    "\n",
    "a) Critério das linhas ($\\beta_i$) \n",
    "\n",
    "Calcula a soma dos elementos da linha dividido pelo elemento da diagonal principal na linha correspondente, compondo então um vetor com os valores $\\beta_i$ para cada linha $i$ e retornando o maior deles.\n",
    "\n",
    "$$\\beta_i = \\frac{\\sum_{i=1}^{n}{a_{ij}}}{a_{ii}}$$\n",
    "\n",
    "b) Critério das colunas ($\\beta_i$) \n",
    "\n",
    "Semelhantemente ao anterior, calcula a soma dos elementos da coluna dividido pelo elemento da diagonal principal na linha correspondente, armazenando então um vetor com os valores $\\beta_j$ para cada coluna $j$ e retornando o maior deles.\n",
    "\n",
    "$$\\beta_j = \\frac{\\sum_{j=1}^{n}{a_{ij}}}{a_{jj}}$$\n",
    "\n",
    "c) Critério de Sassenfield \n",
    "\n",
    "Este, porém, é parecido com o primeiro, a primeira linha é calculada de maneira semelhante ao critério das linhas. Entretanto, na segunda linha em diante, os valores de $\\beta$ obtidos nas linhas anteriores são utilizados como multiplicadores para os elementos cujo índice da coluna é correspondente, ou seja:\n",
    "\n",
    "$$\n",
    "\\begin{matrix}\n",
    "\\beta_1 = \\frac{\\sum_{i=1}^{n}{a_{ij}}}{a_{11}} \\\\\n",
    "\\beta_2 = \\beta_1 a_{21} + \\frac{\\sum_{i=2}^{n}{a_{ij}}}{a_{11}} \\\\\n",
    "\\beta_3 = \\beta_1 a_{31} + \\beta_2 a_{32} + \\frac{\\sum_{i=3}^{n}{a_{ij}}}{a_{33}} \\\\\n",
    " ... \n",
    "\\end{matrix}\n",
    "$$\n",
    "\n",
    "Para quaisquer dos três métodos, quanto maior for o valor retornado pela função, mais difícil será a convergência dos métodos iterativos, ou seja, o método deverá convergir com erros maiores e para um número maior de iterações. Todavia, é suficiente para garantir a convergência que ao menos um destes valores estejam entre $0$ e $1$.\n",
    "\n",
    "Assim, foi implementada apenas uma função para responder aos três critérios, de maneira que a escolha é feita através do parâmetro _modo_:\n",
    "\n",
    "* <code>'l'</code> ou <code>'L'</code> para o critério das linhas \n",
    "* <code>'c'</code> ou <code>'C'</code> para o critério das colunas</code>\n",
    "* <code>'s'</code> ou <code>'S'</code> para o critério de Sassenfield"
   ]
  },
  {
   "cell_type": "code",
   "execution_count": 186,
   "metadata": {},
   "outputs": [
    {
     "name": "stdout",
     "output_type": "stream",
     "text": [
      "\n",
      "Convergência de A pelo critério das linhas....: 45.08258035184163\n",
      "Convergência de A pelo critério das colunas...: 38.176996829332275\n",
      "Convergência de A pelo critério de Sassenfield: 2493.162558021146\n"
     ]
    }
   ],
   "source": [
    "println(\"\\nConvergência de A pelo critério das linhas....: \", SEL_CritConverg(A, 'l'))\n",
    "println(\"Convergência de A pelo critério das colunas...: \", SEL_CritConverg(A, 'c'))\n",
    "println(\"Convergência de A pelo critério de Sassenfield: \", SEL_CritConverg(A, 's'))"
   ]
  },
  {
   "cell_type": "code",
   "execution_count": null,
   "metadata": {},
   "outputs": [],
   "source": []
  }
 ],
 "metadata": {
  "kernelspec": {
   "display_name": "Julia 1.6.2",
   "language": "julia",
   "name": "julia-1.6"
  },
  "language_info": {
   "file_extension": ".jl",
   "mimetype": "application/julia",
   "name": "julia",
   "version": "1.6.2"
  }
 },
 "nbformat": 4,
 "nbformat_minor": 2
}
